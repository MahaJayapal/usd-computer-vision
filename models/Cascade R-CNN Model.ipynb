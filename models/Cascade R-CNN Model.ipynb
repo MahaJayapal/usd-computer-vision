{
 "cells": [
  {
   "cell_type": "code",
   "execution_count": 67,
   "id": "c508bb3c-a98b-418f-ad98-3c448a4c8b13",
   "metadata": {},
   "outputs": [
    {
     "name": "stdout",
     "output_type": "stream",
     "text": [
      "Requirement already satisfied: opendatasets in c:\\users\\sassy\\anaconda3\\lib\\site-packages (0.1.22)\n",
      "Requirement already satisfied: tqdm in c:\\users\\sassy\\anaconda3\\lib\\site-packages (from opendatasets) (4.65.2)\n",
      "Requirement already satisfied: kaggle in c:\\users\\sassy\\anaconda3\\lib\\site-packages (from opendatasets) (1.6.17)\n",
      "Requirement already satisfied: click in c:\\users\\sassy\\anaconda3\\lib\\site-packages (from opendatasets) (8.1.7)\n",
      "Requirement already satisfied: colorama in c:\\users\\sassy\\anaconda3\\lib\\site-packages (from click->opendatasets) (0.4.6)\n",
      "Requirement already satisfied: six>=1.10 in c:\\users\\sassy\\anaconda3\\lib\\site-packages (from kaggle->opendatasets) (1.16.0)\n",
      "Requirement already satisfied: certifi>=2023.7.22 in c:\\users\\sassy\\anaconda3\\lib\\site-packages (from kaggle->opendatasets) (2024.7.4)\n",
      "Requirement already satisfied: python-dateutil in c:\\users\\sassy\\anaconda3\\lib\\site-packages (from kaggle->opendatasets) (2.8.2)\n",
      "Requirement already satisfied: requests in c:\\users\\sassy\\anaconda3\\lib\\site-packages (from kaggle->opendatasets) (2.28.2)\n",
      "Requirement already satisfied: python-slugify in c:\\users\\sassy\\anaconda3\\lib\\site-packages (from kaggle->opendatasets) (5.0.2)\n",
      "Requirement already satisfied: urllib3 in c:\\users\\sassy\\anaconda3\\lib\\site-packages (from kaggle->opendatasets) (1.26.20)\n",
      "Requirement already satisfied: bleach in c:\\users\\sassy\\anaconda3\\lib\\site-packages (from kaggle->opendatasets) (4.1.0)\n",
      "Requirement already satisfied: packaging in c:\\users\\sassy\\anaconda3\\lib\\site-packages (from bleach->kaggle->opendatasets) (24.2)\n",
      "Requirement already satisfied: webencodings in c:\\users\\sassy\\anaconda3\\lib\\site-packages (from bleach->kaggle->opendatasets) (0.5.1)\n",
      "Requirement already satisfied: text-unidecode>=1.3 in c:\\users\\sassy\\anaconda3\\lib\\site-packages (from python-slugify->kaggle->opendatasets) (1.3)\n",
      "Requirement already satisfied: charset-normalizer<4,>=2 in c:\\users\\sassy\\anaconda3\\lib\\site-packages (from requests->kaggle->opendatasets) (2.0.4)\n",
      "Requirement already satisfied: idna<4,>=2.5 in c:\\users\\sassy\\anaconda3\\lib\\site-packages (from requests->kaggle->opendatasets) (3.4)\n"
     ]
    }
   ],
   "source": [
    "!pip install opendatasets"
   ]
  },
  {
   "cell_type": "code",
   "execution_count": 69,
   "id": "a4be4508-21c1-45bc-aa85-6b43d3ea8590",
   "metadata": {},
   "outputs": [],
   "source": [
    "import opendatasets as od"
   ]
  },
  {
   "cell_type": "code",
   "execution_count": 71,
   "id": "b83546ab-1289-4b8c-b11a-cab9b93bcab6",
   "metadata": {},
   "outputs": [
    {
     "name": "stdout",
     "output_type": "stream",
     "text": [
      "Skipping, found downloaded files in \".\\recyclable-and-household-waste-classification\" (use force=True to force download)\n"
     ]
    }
   ],
   "source": [
    "od.download(\"https://www.kaggle.com/datasets/alistairking/recyclable-and-household-waste-classification\")"
   ]
  },
  {
   "cell_type": "code",
   "execution_count": 73,
   "id": "d919a067-72b2-4cfb-9e64-29926244ec80",
   "metadata": {},
   "outputs": [],
   "source": [
    "import os\n",
    "from PIL import Image\n",
    "import matplotlib.pyplot as plt\n",
    "\n",
    "# Define the path to the main images folder\n",
    "image_folder = '/content/recyclable-and-household-waste-classification/images/images'\n",
    "\n",
    "# Traverse the subdirectories and list images\n",
    "image_paths = []\n",
    "for root, dirs, files in os.walk(image_folder):\n",
    "    for file in files:\n",
    "        # Append full path for each image file\n",
    "        image_paths.append(os.path.join(root, file))\n",
    "\n",
    "# Display a few sample images\n",
    "for i, image_path in enumerate(image_paths[:5]):  # Show the first 5 images\n",
    "    image = Image.open(image_path)\n",
    "\n",
    "    # Display the image\n",
    "    plt.subplot(1, 5, i + 1)\n",
    "    plt.imshow(image)\n",
    "    plt.axis('off')\n",
    "    plt.title(os.path.basename(image_path))\n",
    "\n",
    "plt.show()"
   ]
  },
  {
   "cell_type": "code",
   "execution_count": 75,
   "id": "14da4804-885f-4981-a964-8939fda8cd18",
   "metadata": {},
   "outputs": [
    {
     "ename": "FileNotFoundError",
     "evalue": "[WinError 3] The system cannot find the path specified: '/content/recyclable-and-household-waste-classification/images/images'",
     "output_type": "error",
     "traceback": [
      "\u001b[1;31m---------------------------------------------------------------------------\u001b[0m",
      "\u001b[1;31mFileNotFoundError\u001b[0m                         Traceback (most recent call last)",
      "Cell \u001b[1;32mIn[75], line 15\u001b[0m\n\u001b[0;32m     12\u001b[0m os\u001b[38;5;241m.\u001b[39mmakedirs(val_dir, exist_ok\u001b[38;5;241m=\u001b[39m\u001b[38;5;28;01mTrue\u001b[39;00m)\n\u001b[0;32m     14\u001b[0m \u001b[38;5;66;03m# Process each class in the dataset directory\u001b[39;00m\n\u001b[1;32m---> 15\u001b[0m \u001b[38;5;28;01mfor\u001b[39;00m class_name \u001b[38;5;129;01min\u001b[39;00m os\u001b[38;5;241m.\u001b[39mlistdir(dataset_dir):\n\u001b[0;32m     16\u001b[0m     class_path \u001b[38;5;241m=\u001b[39m os\u001b[38;5;241m.\u001b[39mpath\u001b[38;5;241m.\u001b[39mjoin(dataset_dir, class_name)\n\u001b[0;32m     17\u001b[0m     \u001b[38;5;28;01mif\u001b[39;00m os\u001b[38;5;241m.\u001b[39mpath\u001b[38;5;241m.\u001b[39misdir(class_path):  \u001b[38;5;66;03m# Ensure it’s a directory (class folder)\u001b[39;00m\n\u001b[0;32m     18\u001b[0m         \u001b[38;5;66;03m# Create class folders in train and val directories\u001b[39;00m\n",
      "\u001b[1;31mFileNotFoundError\u001b[0m: [WinError 3] The system cannot find the path specified: '/content/recyclable-and-household-waste-classification/images/images'"
     ]
    }
   ],
   "source": [
    "import os\n",
    "import shutil\n",
    "import random\n",
    "\n",
    "# Define paths\n",
    "dataset_dir = '/content/recyclable-and-household-waste-classification/images/images'\n",
    "train_dir = '/content/split_dataset/train/images'\n",
    "val_dir = '/content/split_dataset/val/images'\n",
    "\n",
    "# Ensure train and val directories exist\n",
    "os.makedirs(train_dir, exist_ok=True)\n",
    "os.makedirs(val_dir, exist_ok=True)\n",
    "\n",
    "# Process each class in the dataset directory\n",
    "for class_name in os.listdir(dataset_dir):\n",
    "    class_path = os.path.join(dataset_dir, class_name)\n",
    "    if os.path.isdir(class_path):  # Ensure it’s a directory (class folder)\n",
    "        # Create class folders in train and val directories\n",
    "        os.makedirs(os.path.join(train_dir, class_name), exist_ok=True)\n",
    "        os.makedirs(os.path.join(val_dir, class_name), exist_ok=True)\n",
    "\n",
    "        # Collect all image file paths from any subdirectories within this class folder\n",
    "        images = []\n",
    "        for root, _, files in os.walk(class_path):\n",
    "            for file in files:\n",
    "                if file.lower().endswith(('.png', '.jpg', '.jpeg')):  # Check for image file extensions\n",
    "                    images.append(os.path.join(root, file))\n",
    "\n",
    "        # Shuffle and split images into 80/20 train/val sets\n",
    "        random.shuffle(images)\n",
    "        split_idx = int(len(images) * 0.8)\n",
    "        train_images = images[:split_idx]\n",
    "        val_images = images[split_idx:]\n",
    "\n",
    "        # Copy images to train and val directories\n",
    "        for image_path in train_images:\n",
    "            dest_path = os.path.join(train_dir, class_name, os.path.basename(image_path))\n",
    "            shutil.copyfile(image_path, dest_path)\n",
    "\n",
    "        for image_path in val_images:\n",
    "            dest_path = os.path.join(val_dir, class_name, os.path.basename(image_path))\n",
    "            shutil.copyfile(image_path, dest_path)\n",
    "\n",
    "print(\"Dataset successfully split into train and val folders!\")\n"
   ]
  },
  {
   "cell_type": "code",
   "execution_count": 11,
   "id": "434b7046-ec8c-4568-859b-19aa7a44abf8",
   "metadata": {},
   "outputs": [
    {
     "ename": "NameError",
     "evalue": "name 'Config' is not defined",
     "output_type": "error",
     "traceback": [
      "\u001b[1;31m---------------------------------------------------------------------------\u001b[0m",
      "\u001b[1;31mNameError\u001b[0m                                 Traceback (most recent call last)",
      "Cell \u001b[1;32mIn[11], line 2\u001b[0m\n\u001b[0;32m      1\u001b[0m \u001b[38;5;66;03m# Load a base configuration for Cascade R-CNN\u001b[39;00m\n\u001b[1;32m----> 2\u001b[0m cfg \u001b[38;5;241m=\u001b[39m Config\u001b[38;5;241m.\u001b[39mfromfile(\u001b[38;5;124m'\u001b[39m\u001b[38;5;124mconfigs/cascade_rcnn/cascade_rcnn_r50_fpn_1x_coco.py\u001b[39m\u001b[38;5;124m'\u001b[39m)\n\u001b[0;32m      4\u001b[0m \u001b[38;5;66;03m# Set dataset paths\u001b[39;00m\n\u001b[0;32m      5\u001b[0m cfg\u001b[38;5;241m.\u001b[39mdataset_type \u001b[38;5;241m=\u001b[39m \u001b[38;5;124m'\u001b[39m\u001b[38;5;124mCocoDataset\u001b[39m\u001b[38;5;124m'\u001b[39m\n",
      "\u001b[1;31mNameError\u001b[0m: name 'Config' is not defined"
     ]
    }
   ],
   "source": [
    "# Load a base configuration for Cascade R-CNN\n",
    "cfg = Config.fromfile('configs/cascade_rcnn/cascade_rcnn_r50_fpn_1x_coco.py')\n",
    "\n",
    "# Set dataset paths\n",
    "cfg.dataset_type = 'CocoDataset'\n",
    "cfg.data_root = 'data/recyclable_waste/'\n",
    "\n",
    "cfg.data.train = dict(\n",
    "    type='CocoDataset',\n",
    "    ann_file='data/recyclable_waste/annotations/instances_train.json',\n",
    "    img_prefix='data/recyclable_waste/images/train/',\n",
    "    classes=('plastic', 'metal', 'paper', 'glass')  # Define your classes\n",
    ")\n",
    "\n",
    "cfg.data.val = dict(\n",
    "    type='CocoDataset',\n",
    "    ann_file='data/recyclable_waste/annotations/instances_val.json',\n",
    "    img_prefix='data/recyclable_waste/images/val/',\n",
    "    classes=('plastic', 'metal', 'paper', 'glass')\n",
    ")\n",
    "\n",
    "cfg.data.test = dict(\n",
    "    type='CocoDataset',\n",
    "    ann_file='data/recyclable_waste/annotations/instances_val.json',\n",
    "    img_prefix='data/recyclable_waste/images/val/',\n",
    "    classes=('plastic', 'metal', 'paper', 'glass')\n",
    ")\n",
    "\n",
    "# Adjust model for the custom dataset (e.g., number of classes)\n",
    "cfg.model.roi_head.bbox_head[0].num_classes = 4\n",
    "cfg.model.roi_head.bbox_head[1].num_classes = 4\n",
    "cfg.model.roi_head.bbox_head[2].num_classes = 4\n",
    "\n",
    "# Output directory for logs and model checkpoints\n",
    "cfg.work_dir = './work_dirs/cascade_rcnn_recycling'\n",
    "\n",
    "# Training settings\n",
    "cfg.optimizer.lr = 0.02  # Adjust learning rate for small datasets\n",
    "cfg.lr_config.warmup = None\n",
    "cfg.log_config.interval = 10  # Log every 10 iterations\n",
    "cfg.runner.max_epochs = 12  # Number of training epochs\n",
    "cfg.evaluation.metric = 'bbox'\n",
    "\n",
    "# Enable GPU training\n",
    "cfg.gpu_ids = range(1)\n",
    "\n",
    "# Print updated configuration\n",
    "print(f'Updated Config:\\n{cfg.pretty_text}')"
   ]
  },
  {
   "cell_type": "code",
   "execution_count": null,
   "id": "4f4f7246-b4ae-4273-8193-b0bc1de9db67",
   "metadata": {},
   "outputs": [],
   "source": [
    "# Initialize the model with the configuration\n",
    "model = init_detector(cfg, device='cuda:0')\n",
    "\n",
    "# Train the model\n",
    "train_detector(model, cfg)"
   ]
  },
  {
   "cell_type": "code",
   "execution_count": null,
   "id": "f573ddae-b599-4d44-b726-0178ef661c54",
   "metadata": {},
   "outputs": [],
   "source": [
    "\n",
    "\n",
    "# Load the trained model\n",
    "checkpoint = './work_dirs/cascade_rcnn_recycling/latest.pth'\n",
    "model = init_detector(cfg, checkpoint, device='cuda:0')\n",
    "\n",
    "# Run inference on a test image\n",
    "image_path = 'data/recyclable_waste/images/val/test_image.jpg'\n",
    "result = inference_detector(model, image_path)\n",
    "\n",
    "# Visualize results\n",
    "show_result_pyplot(model, image_path, result, score_thr=0.3)"
   ]
  },
  {
   "cell_type": "code",
   "execution_count": null,
   "id": "172a68d8-d2f6-4e4f-b001-35147d500ea6",
   "metadata": {},
   "outputs": [],
   "source": [
    "\n",
    "from mmdet.datasets import build_dataloader, build_dataset\n",
    "\n",
    "# Build the test dataset and data loader\n",
    "test_dataset = build_dataset(cfg.data.test)\n",
    "data_loader = build_dataloader(test_dataset, samples_per_gpu=1, workers_per_gpu=2, dist=False, shuffle=False)\n",
    "\n",
    "# Run evaluation\n",
    "results = single_gpu_test(model, data_loader)\n",
    "print(results)"
   ]
  }
 ],
 "metadata": {
  "kernelspec": {
   "display_name": "Python 3 (ipykernel)",
   "language": "python",
   "name": "python3"
  },
  "language_info": {
   "codemirror_mode": {
    "name": "ipython",
    "version": 3
   },
   "file_extension": ".py",
   "mimetype": "text/x-python",
   "name": "python",
   "nbconvert_exporter": "python",
   "pygments_lexer": "ipython3",
   "version": "3.11.7"
  }
 },
 "nbformat": 4,
 "nbformat_minor": 5
}
