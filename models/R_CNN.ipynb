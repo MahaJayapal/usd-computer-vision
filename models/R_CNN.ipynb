{
  "nbformat": 4,
  "nbformat_minor": 0,
  "metadata": {
    "colab": {
      "provenance": [],
      "gpuType": "T4"
    },
    "kernelspec": {
      "name": "python3",
      "display_name": "Python 3"
    },
    "language_info": {
      "name": "python"
    },
    "accelerator": "GPU"
  },
  "cells": [
    {
      "cell_type": "code",
      "source": [
        "!pip install opendatasets"
      ],
      "metadata": {
        "collapsed": true,
        "colab": {
          "base_uri": "https://localhost:8080/"
        },
        "id": "mi19l7Wd2cRl",
        "outputId": "8ba8d332-25d1-4895-de83-83095bc1e01c"
      },
      "execution_count": 1,
      "outputs": [
        {
          "output_type": "stream",
          "name": "stdout",
          "text": [
            "Collecting opendatasets\n",
            "  Downloading opendatasets-0.1.22-py3-none-any.whl.metadata (9.2 kB)\n",
            "Requirement already satisfied: tqdm in /usr/local/lib/python3.10/dist-packages (from opendatasets) (4.66.6)\n",
            "Requirement already satisfied: kaggle in /usr/local/lib/python3.10/dist-packages (from opendatasets) (1.6.17)\n",
            "Requirement already satisfied: click in /usr/local/lib/python3.10/dist-packages (from opendatasets) (8.1.7)\n",
            "Requirement already satisfied: six>=1.10 in /usr/local/lib/python3.10/dist-packages (from kaggle->opendatasets) (1.16.0)\n",
            "Requirement already satisfied: certifi>=2023.7.22 in /usr/local/lib/python3.10/dist-packages (from kaggle->opendatasets) (2024.8.30)\n",
            "Requirement already satisfied: python-dateutil in /usr/local/lib/python3.10/dist-packages (from kaggle->opendatasets) (2.8.2)\n",
            "Requirement already satisfied: requests in /usr/local/lib/python3.10/dist-packages (from kaggle->opendatasets) (2.32.3)\n",
            "Requirement already satisfied: python-slugify in /usr/local/lib/python3.10/dist-packages (from kaggle->opendatasets) (8.0.4)\n",
            "Requirement already satisfied: urllib3 in /usr/local/lib/python3.10/dist-packages (from kaggle->opendatasets) (2.2.3)\n",
            "Requirement already satisfied: bleach in /usr/local/lib/python3.10/dist-packages (from kaggle->opendatasets) (6.2.0)\n",
            "Requirement already satisfied: webencodings in /usr/local/lib/python3.10/dist-packages (from bleach->kaggle->opendatasets) (0.5.1)\n",
            "Requirement already satisfied: text-unidecode>=1.3 in /usr/local/lib/python3.10/dist-packages (from python-slugify->kaggle->opendatasets) (1.3)\n",
            "Requirement already satisfied: charset-normalizer<4,>=2 in /usr/local/lib/python3.10/dist-packages (from requests->kaggle->opendatasets) (3.4.0)\n",
            "Requirement already satisfied: idna<4,>=2.5 in /usr/local/lib/python3.10/dist-packages (from requests->kaggle->opendatasets) (3.10)\n",
            "Downloading opendatasets-0.1.22-py3-none-any.whl (15 kB)\n",
            "Installing collected packages: opendatasets\n",
            "Successfully installed opendatasets-0.1.22\n"
          ]
        }
      ]
    },
    {
      "cell_type": "code",
      "source": [
        "import opendatasets as od"
      ],
      "metadata": {
        "id": "t0YZ3iY42jzY"
      },
      "execution_count": 2,
      "outputs": []
    },
    {
      "cell_type": "code",
      "source": [
        "od.download(\"https://www.kaggle.com/datasets/alistairking/recyclable-and-household-waste-classification\")"
      ],
      "metadata": {
        "colab": {
          "base_uri": "https://localhost:8080/"
        },
        "id": "13KfWVZh2xWr",
        "outputId": "b164c183-64cc-4415-d4aa-752f22f79c56"
      },
      "execution_count": 3,
      "outputs": [
        {
          "output_type": "stream",
          "name": "stdout",
          "text": [
            "Please provide your Kaggle credentials to download this dataset. Learn more: http://bit.ly/kaggle-creds\n",
            "Your Kaggle username: melissashort13\n",
            "Your Kaggle Key: ··········\n",
            "Dataset URL: https://www.kaggle.com/datasets/alistairking/recyclable-and-household-waste-classification\n",
            "Downloading recyclable-and-household-waste-classification.zip to ./recyclable-and-household-waste-classification\n"
          ]
        },
        {
          "output_type": "stream",
          "name": "stderr",
          "text": [
            "100%|██████████| 920M/920M [00:32<00:00, 29.3MB/s]\n"
          ]
        },
        {
          "output_type": "stream",
          "name": "stdout",
          "text": [
            "\n"
          ]
        }
      ]
    },
    {
      "cell_type": "code",
      "source": [
        "import os\n",
        "from PIL import Image\n",
        "import matplotlib.pyplot as plt\n",
        "\n",
        "# Define the path to the main images folder\n",
        "image_folder = '/content/recyclable-and-household-waste-classification/images/images'\n",
        "\n",
        "# Traverse the subdirectories and list images\n",
        "image_paths = []\n",
        "for root, dirs, files in os.walk(image_folder):\n",
        "    for file in files:\n",
        "        # Append full path for each image file\n",
        "        image_paths.append(os.path.join(root, file))\n",
        "\n",
        "# Display a few sample images\n",
        "for i, image_path in enumerate(image_paths[:5]):  # Show the first 5 images\n",
        "    image = Image.open(image_path)\n",
        "\n",
        "    # Display the image\n",
        "    plt.subplot(1, 5, i + 1)\n",
        "    plt.imshow(image)\n",
        "    plt.axis('off')\n",
        "    plt.title(os.path.basename(image_path))\n",
        "\n",
        "plt.show()\n",
        "\n"
      ],
      "metadata": {
        "id": "JKr-7XIc4ZpS",
        "colab": {
          "base_uri": "https://localhost:8080/",
          "height": 144
        },
        "outputId": "c2c2e760-bd40-43a7-ba03-d72446b5683e"
      },
      "execution_count": 4,
      "outputs": [
        {
          "output_type": "display_data",
          "data": {
            "text/plain": [
              "<Figure size 640x480 with 5 Axes>"
            ],
            "image/png": "[encoded data removed]"
          },
          "metadata": {}
        }
      ]
    },
    {
      "cell_type": "code",
      "source": [
        "import os\n",
        "import shutil\n",
        "import random\n",
        "\n",
        "# Define paths\n",
        "dataset_dir = '/content/recyclable-and-household-waste-classification/images/images'\n",
        "train_dir = '/content/split_dataset/train/images'\n",
        "val_dir = '/content/split_dataset/val/images'\n",
        "\n",
        "# Ensure train and val directories exist\n",
        "os.makedirs(train_dir, exist_ok=True)\n",
        "os.makedirs(val_dir, exist_ok=True)\n",
        "\n",
        "# Process each class in the dataset directory\n",
        "for class_name in os.listdir(dataset_dir):\n",
        "    class_path = os.path.join(dataset_dir, class_name)\n",
        "    if os.path.isdir(class_path):  # Ensure it’s a directory (class folder)\n",
        "        # Create class folders in train and val directories\n",
        "        os.makedirs(os.path.join(train_dir, class_name), exist_ok=True)\n",
        "        os.makedirs(os.path.join(val_dir, class_name), exist_ok=True)\n",
        "\n",
        "        # Collect all image file paths from any subdirectories within this class folder\n",
        "        images = []\n",
        "        for root, _, files in os.walk(class_path):\n",
        "            for file in files:\n",
        "                if file.lower().endswith(('.png', '.jpg', '.jpeg')):  # Check for image file extensions\n",
        "                    images.append(os.path.join(root, file))\n",
        "\n",
        "        # Shuffle and split images into 80/20 train/val sets\n",
        "        random.shuffle(images)\n",
        "        split_idx = int(len(images) * 0.8)\n",
        "        train_images = images[:split_idx]\n",
        "        val_images = images[split_idx:]\n",
        "\n",
        "        # Copy images to train and val directories\n",
        "        for image_path in train_images:\n",
        "            dest_path = os.path.join(train_dir, class_name, os.path.basename(image_path))\n",
        "            shutil.copyfile(image_path, dest_path)\n",
        "\n",
        "        for image_path in val_images:\n",
        "            dest_path = os.path.join(val_dir, class_name, os.path.basename(image_path))\n",
        "            shutil.copyfile(image_path, dest_path)\n",
        "\n",
        "print(\"Dataset successfully split into train and val folders!\")\n"
      ],
      "metadata": {
        "id": "INxLkCQN_Ly6",
        "colab": {
          "base_uri": "https://localhost:8080/"
        },
        "outputId": "9d595861-e89b-4a4b-ab3b-77ad79813cac"
      },
      "execution_count": 5,
      "outputs": [
        {
          "output_type": "stream",
          "name": "stdout",
          "text": [
            "Dataset successfully split into train and val folders!\n"
          ]
        }
      ]
    },
    {
      "cell_type": "code",
      "source": [
        "import torch\n",
        "import torchvision.transforms as transforms\n",
        "from torchvision.datasets import ImageFolder\n",
        "from torch.utils.data import DataLoader\n",
        "import torch.nn as nn\n",
        "import torch.optim as optim\n",
        "from torchvision import models\n",
        "import os\n",
        "\n",
        "# Define data transformations\n",
        "transform = transforms.Compose([\n",
        "    transforms.Resize((224, 224)),  # Resize images to a consistent size\n",
        "    transforms.ToTensor(),          # Convert to tensor\n",
        "    transforms.Normalize([0.485, 0.456, 0.406], [0.229, 0.224, 0.225])  # Normalize with ImageNet mean and std\n",
        "])\n",
        "\n",
        "# Set up paths for train and val data\n",
        "train_dir = '/content/split_dataset/train/images'\n",
        "val_dir = '/content/split_dataset/val/images'\n",
        "\n",
        "# Load datasets\n",
        "train_dataset = ImageFolder(root=train_dir, transform=transform)\n",
        "val_dataset = ImageFolder(root=val_dir, transform=transform)\n",
        "\n",
        "# Define data loaders\n",
        "train_loader = DataLoader(train_dataset, batch_size=32, shuffle=True)\n",
        "val_loader = DataLoader(val_dataset, batch_size=32, shuffle=False)\n"
      ],
      "metadata": {
        "id": "tdynp1lD_Lvu"
      },
      "execution_count": 6,
      "outputs": []
    },
    {
      "cell_type": "code",
      "source": [
        "import os\n",
        "import json\n",
        "import torch\n",
        "from PIL import Image, ImageDraw\n",
        "import matplotlib.pyplot as plt\n",
        "from torchvision.models.detection import fasterrcnn_resnet50_fpn\n",
        "from torch.utils.data import DataLoader\n",
        "import torchvision.transforms as transforms\n",
        "from torchvision.transforms import functional as F\n",
        "\n",
        "# Check for GPU\n",
        "device = torch.device(\"cuda\" if torch.cuda.is_available() else \"cpu\")\n",
        "\n",
        "# Initialize the model (e.g., ResNet18)\n",
        "model = models.resnet18(pretrained=True)\n",
        "num_classes = len(train_dataset.classes)  # Get the number of classes from the dataset\n",
        "model.fc = nn.Linear(model.fc.in_features, num_classes)  # Adjust the final layer\n",
        "\n",
        "model = model.to(device)\n",
        "\n",
        "# Define loss function and optimizer\n",
        "criterion = nn.CrossEntropyLoss()\n",
        "optimizer = optim.SGD(model.parameters(), lr=0.001, momentum=0.9)\n"
      ],
      "metadata": {
        "id": "Kc_elRZm_LsW",
        "colab": {
          "base_uri": "https://localhost:8080/"
        },
        "outputId": "3649d465-7871-4965-85c3-696a460aaad8"
      },
      "execution_count": 7,
      "outputs": [
        {
          "output_type": "stream",
          "name": "stderr",
          "text": [
            "/usr/local/lib/python3.10/dist-packages/torchvision/models/_utils.py:208: UserWarning: The parameter 'pretrained' is deprecated since 0.13 and may be removed in the future, please use 'weights' instead.\n",
            "  warnings.warn(\n",
            "/usr/local/lib/python3.10/dist-packages/torchvision/models/_utils.py:223: UserWarning: Arguments other than a weight enum or `None` for 'weights' are deprecated since 0.13 and may be removed in the future. The current behavior is equivalent to passing `weights=ResNet18_Weights.IMAGENET1K_V1`. You can also use `weights=ResNet18_Weights.DEFAULT` to get the most up-to-date weights.\n",
            "  warnings.warn(msg)\n",
            "Downloading: \"https://download.pytorch.org/models/resnet18-f37072fd.pth\" to /root/.cache/torch/hub/checkpoints/resnet18-f37072fd.pth\n",
            "100%|██████████| 44.7M/44.7M [00:00<00:00, 171MB/s]\n"
          ]
        }
      ]
    },
    {
      "cell_type": "code",
      "source": [
        "# Dataset class for .png files\n",
        "class RecyclingDataset(torch.utils.data.Dataset):\n",
        "    def __init__(self, annotations, image_dir, transforms=None):\n",
        "        self.annotations = annotations\n",
        "        self.image_dir = image_dir\n",
        "        self.transforms = transforms\n",
        "\n",
        "    def __len__(self):\n",
        "        return len(self.annotations)\n",
        "\n",
        "    def __getitem__(self, idx):\n",
        "        annotation = self.annotations[idx]\n",
        "        # Ensure the file paths include the .png extension\n",
        "        img_path = os.path.join(self.image_dir, annotation[\"image_id\"] + \".png\")\n",
        "        img = Image.open(img_path).convert(\"RGB\")  # Open PNG image as RGB\n",
        "        boxes = torch.tensor(annotation[\"boxes\"], dtype=torch.float32)\n",
        "        labels = torch.tensor(annotation[\"labels\"], dtype=torch.int64)\n",
        "\n",
        "        target = {\"boxes\": boxes, \"labels\": labels}\n",
        "        if self.transforms:\n",
        "            img = self.transforms(img)\n",
        "\n",
        "        return img, target"
      ],
      "metadata": {
        "id": "rW6q0zyHeOO-"
      },
      "execution_count": 8,
      "outputs": []
    },
    {
      "cell_type": "code",
      "source": [
        "import os\n",
        "import json\n",
        "\n",
        "# Path to directory with .png images\n",
        "image_dir = \"/content/recyclable-and-household-waste-classification/images/images/aluminum_soda_cans/real_world\"\n",
        "\n",
        "# Example bounding box and label data (manually defined or from an annotation tool)\n",
        "# Replace with real data\n",
        "annotations = [\n",
        "    {\n",
        "        Image_1.png : \"image1\",  # Exclude the .png extension here\n",
        "        \"width\": 640,\n",
        "        \"height\": 480,\n",
        "        \"boxes\": [[50, 30, 200, 150], [300, 100, 400, 200]],  # List of bounding boxes: [x_min, y_min, x_max, y_max]\n",
        "        \"labels\": [1, 2]  # Corresponding class labels\n",
        "    },\n",
        "    {\n",
        "        \"\": \"image2\",\n",
        "        \"width\": 640,\n",
        "        \"height\": 480,\n",
        "        \"boxes\": [[120, 60, 220, 160]],\n",
        "        \"labels\": [3]\n",
        "    }\n",
        "]\n",
        "\n",
        "# Save annotations to JSON file\n",
        "output_file = \"annotations.json\"\n",
        "with open(output_file, \"w\") as f:\n",
        "    json.dump(annotations, f, indent=4)\n",
        "\n",
        "print(f\"Annotations saved to {output_file}\")\n"
      ],
      "metadata": {
        "colab": {
          "base_uri": "https://localhost:8080/",
          "height": 211
        },
        "id": "WghyuQCagqM4",
        "outputId": "4b3ffcdc-47e0-409c-ce85-65e0593544bc"
      },
      "execution_count": 9,
      "outputs": [
        {
          "output_type": "error",
          "ename": "NameError",
          "evalue": "name 'Image_1' is not defined",
          "traceback": [
            "\u001b[0;31m---------------------------------------------------------------------------\u001b[0m",
            "\u001b[0;31mNameError\u001b[0m                                 Traceback (most recent call last)",
            "\u001b[0;32m<ipython-input-9-0eb66b046ce5>\u001b[0m in \u001b[0;36m<cell line: 11>\u001b[0;34m()\u001b[0m\n\u001b[1;32m      9\u001b[0m annotations = [\n\u001b[1;32m     10\u001b[0m     {\n\u001b[0;32m---> 11\u001b[0;31m         \u001b[0mImage_1\u001b[0m\u001b[0;34m.\u001b[0m\u001b[0mpng\u001b[0m \u001b[0;34m:\u001b[0m \u001b[0;34m\"image1\"\u001b[0m\u001b[0;34m,\u001b[0m  \u001b[0;31m# Exclude the .png extension here\u001b[0m\u001b[0;34m\u001b[0m\u001b[0;34m\u001b[0m\u001b[0m\n\u001b[0m\u001b[1;32m     12\u001b[0m         \u001b[0;34m\"width\"\u001b[0m\u001b[0;34m:\u001b[0m \u001b[0;36m640\u001b[0m\u001b[0;34m,\u001b[0m\u001b[0;34m\u001b[0m\u001b[0;34m\u001b[0m\u001b[0m\n\u001b[1;32m     13\u001b[0m         \u001b[0;34m\"height\"\u001b[0m\u001b[0;34m:\u001b[0m \u001b[0;36m480\u001b[0m\u001b[0;34m,\u001b[0m\u001b[0;34m\u001b[0m\u001b[0;34m\u001b[0m\u001b[0m\n",
            "\u001b[0;31mNameError\u001b[0m: name 'Image_1' is not defined"
          ]
        }
      ]
    },
    {
      "cell_type": "code",
      "source": [
        "# Load annotations\n",
        "annotations_file = \"/content/recyclable.json\"\n",
        "image_dir = \"/path/to/images\"  # Path to train/val image directory\n",
        "with open(annotations_file) as f:\n",
        "    annotations = json.load(f)\n"
      ],
      "metadata": {
        "id": "3OWpxXvmeRLa"
      },
      "execution_count": null,
      "outputs": []
    },
    {
      "cell_type": "code",
      "source": [
        "# Split dataset into train and validation (adjust splits as needed)\n",
        "train_annotations = annotations[:int(len(annotations) * 0.8)]\n",
        "val_annotations = annotations[int(len(annotations) * 0.8):]\n",
        "\n",
        "# Create train and validation datasets\n",
        "train_dataset = RecyclingDataset(train_annotations, image_dir, transforms=transforms.ToTensor())\n",
        "val_dataset = RecyclingDataset(val_annotations, image_dir, transforms=transforms.ToTensor())"
      ],
      "metadata": {
        "id": "NCMl34GleUYB"
      },
      "execution_count": null,
      "outputs": []
    },
    {
      "cell_type": "code",
      "source": [
        "# Dataloaders\n",
        "train_loader = DataLoader(train_dataset, batch_size=4, shuffle=True, collate_fn=lambda x: tuple(zip(*x)))\n",
        "val_loader = DataLoader(val_dataset, batch_size=4, shuffle=False, collate_fn=lambda x: tuple(zip(*x)))"
      ],
      "metadata": {
        "id": "IIY-TJ-AeWuq"
      },
      "execution_count": null,
      "outputs": []
    },
    {
      "cell_type": "code",
      "source": [
        "# Load pre-trained Faster R-CNN model and modify for custom classes\n",
        "model = fasterrcnn_resnet50_fpn(pretrained=True)\n",
        "num_classes = len(set([label for ann in annotations for label in ann[\"labels\"]])) + 1  # Add 1 for background\n",
        "in_features = model.roi_heads.box_predictor.cls_score.in_features\n",
        "model.roi_heads.box_predictor = torch.nn.Linear(in_features, num_classes)\n",
        "model = model.to(device)"
      ],
      "metadata": {
        "id": "WW6HL5xzeZLG"
      },
      "execution_count": null,
      "outputs": []
    },
    {
      "cell_type": "code",
      "source": [
        "# Optimizer and learning rate scheduler\n",
        "optimizer = torch.optim.SGD(model.parameters(), lr=0.005, momentum=0.9, weight_decay=0.0005)\n",
        "lr_scheduler = torch.optim.lr_scheduler.StepLR(optimizer, step_size=3, gamma=0.1)"
      ],
      "metadata": {
        "id": "TNWravohecbU"
      },
      "execution_count": null,
      "outputs": []
    },
    {
      "cell_type": "code",
      "source": [
        "# Training loop\n",
        "num_epochs = 10\n",
        "for epoch in range(num_epochs):\n",
        "    model.train()\n",
        "    epoch_loss = 0\n",
        "    for images, targets in train_loader:\n",
        "        images = [img.to(device) for img in images]\n",
        "        targets = [{k: v.to(device) for k, v in t.items()} for t in targets]\n",
        "\n",
        "        loss_dict = model(images, targets)\n",
        "        losses = sum(loss for loss in loss_dict.values())\n",
        "        optimizer.zero_grad()\n",
        "        losses.backward()\n",
        "        optimizer.step()\n",
        "        epoch_loss += losses.item()\n",
        "\n",
        "    lr_scheduler.step()\n",
        "    print(f\"Epoch {epoch + 1}/{num_epochs}, Loss: {epoch_loss:.4f}\")\n"
      ],
      "metadata": {
        "id": "AaSaj8LMefZu"
      },
      "execution_count": null,
      "outputs": []
    },
    {
      "cell_type": "code",
      "source": [
        "# Evaluation and Visualization\n",
        "model.eval()\n",
        "for images, _ in val_loader:\n",
        "    images = [img.to(device) for img in images]\n",
        "    with torch.no_grad():\n",
        "        predictions = model(images)\n",
        "\n",
        "    for img, prediction in zip(images, predictions):\n",
        "        img = F.to_pil_image(img.cpu())\n",
        "        draw = ImageDraw.Draw(img)\n",
        "        for box, label in zip(prediction[\"boxes\"], prediction[\"labels\"]):\n",
        "            draw.rectangle(box.tolist(), outline=\"red\", width=3)\n",
        "            draw.text((box[0], box[1]), f\"Class: {label.item()}\", fill=\"white\")\n",
        "        plt.imshow(img)\n",
        "        plt.axis('off')\n",
        "        plt.show()\n",
        "        break"
      ],
      "metadata": {
        "id": "HPw7mqTeemIi"
      },
      "execution_count": null,
      "outputs": []
    }
  ]
}